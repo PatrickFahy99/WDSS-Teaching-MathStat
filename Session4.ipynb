{
 "cells": [
  {
   "cell_type": "markdown",
   "metadata": {},
   "source": [
    "# Mathematics and Statistics"
   ]
  },
  {
   "cell_type": "markdown",
   "metadata": {},
   "source": [
    "* Firstly, create a list of primes up to 200\n",
    "* Secondly, find which pairs of numbers are congruent $\\mod 50$\n",
    "\\\n",
    "Remember x and y congruent $\\mod 50$ if $50 \\mid x-y$"
   ]
  },
  {
   "cell_type": "code",
   "execution_count": 1,
   "metadata": {},
   "outputs": [
    {
     "name": "stdout",
     "output_type": "stream",
     "text": [
      "[3, 5, 7, 11, 13, 17, 19, 23, 29, 31, 37, 41, 43, 47, 53, 59, 61, 67, 71, 73, 79, 83, 89, 97, 101, 103, 107, 109, 113, 127, 131, 137, 139, 149, 151, 157, 163, 167, 173, 179, 181, 191, 193, 197, 199]\n"
     ]
    }
   ],
   "source": [
    "import numpy as np\n",
    "primes = []\n",
    "for number in range(2,200):\n",
    "    prime = True\n",
    "    for divisor in range(2, int(np.ceil(np.sqrt(number)))+1):\n",
    "        if number % divisor == 0:\n",
    "            prime = False\n",
    "    if prime:\n",
    "        primes.append(number)\n",
    "print(primes)"
   ]
  },
  {
   "cell_type": "code",
   "execution_count": 2,
   "metadata": {},
   "outputs": [
    {
     "name": "stdout",
     "output_type": "stream",
     "text": [
      "[(3, 53), (3, 103), (7, 107), (7, 157), (11, 61), (13, 113), (13, 163), (17, 67), (17, 167), (23, 73), (23, 173), (29, 79), (29, 179), (31, 131), (31, 181), (37, 137), (41, 191), (43, 193), (47, 97), (47, 197), (53, 3), (53, 103), (59, 109), (61, 11), (67, 17), (67, 167), (73, 23), (73, 173), (79, 29), (79, 179), (89, 139), (97, 47), (97, 197), (101, 151), (103, 3), (103, 53), (107, 7), (107, 157), (109, 59), (113, 13), (113, 163), (131, 31), (131, 181), (137, 37), (139, 89), (149, 199), (151, 101), (157, 7), (157, 107), (163, 13), (163, 113), (167, 17), (167, 67), (173, 23), (173, 73), (179, 29), (179, 79), (181, 31), (181, 131), (191, 41), (193, 43), (197, 47), (197, 97), (199, 149)]\n"
     ]
    }
   ],
   "source": [
    "congruences = []\n",
    "for x in primes:\n",
    "    for y in primes:\n",
    "        if (x-y)%50 == 0 and x!=y:\n",
    "            congruences.append((x,y))\n",
    "print(congruences)"
   ]
  },
  {
   "cell_type": "markdown",
   "metadata": {},
   "source": [
    "What is the probability that a (one spatial dimension) random walk returns to its starting point within 10 timesteps?\\\n",
    "\\\n",
    "A random walk in one spatial dimension is a sequence of movements, one unit up or one unit down, each with equal probability."
   ]
  },
  {
   "cell_type": "code",
   "execution_count": 3,
   "metadata": {},
   "outputs": [],
   "source": [
    "from random import randint\n",
    "\n",
    "def random_walk(N=10):\n",
    "    positions = [0]\n",
    "    for _ in range(N):\n",
    "        positions.append(positions[-1] + 2*randint(0,1)-1)\n",
    "    return positions"
   ]
  },
  {
   "cell_type": "code",
   "execution_count": 4,
   "metadata": {},
   "outputs": [],
   "source": [
    "import matplotlib.pyplot as plt"
   ]
  },
  {
   "cell_type": "code",
   "execution_count": 5,
   "metadata": {},
   "outputs": [
    {
     "data": {
      "text/plain": [
       "[<matplotlib.lines.Line2D at 0x7f9a3d8d3c10>]"
      ]
     },
     "execution_count": 5,
     "metadata": {},
     "output_type": "execute_result"
    },
    {
     "data": {
      "image/png": "[encoded data removed]",
      "text/plain": [
       "<Figure size 432x288 with 1 Axes>"
      ]
     },
     "metadata": {
      "needs_background": "light"
     },
     "output_type": "display_data"
    }
   ],
   "source": [
    "plt.plot(random_walk())"
   ]
  },
  {
   "cell_type": "code",
   "execution_count": 6,
   "metadata": {},
   "outputs": [],
   "source": [
    "def walk_returns(walk):\n",
    "    if 0 in walk[1:]:\n",
    "        return 1\n",
    "    else:\n",
    "        return 0"
   ]
  },
  {
   "cell_type": "code",
   "execution_count": 7,
   "metadata": {},
   "outputs": [],
   "source": [
    "def n_rw_return(n=1000000):\n",
    "    total=0\n",
    "    for _ in range(n):\n",
    "        total += walk_returns(random_walk())\n",
    "    return total/n"
   ]
  },
  {
   "cell_type": "code",
   "execution_count": 8,
   "metadata": {},
   "outputs": [
    {
     "data": {
      "text/plain": [
       "0.753124"
      ]
     },
     "execution_count": 8,
     "metadata": {},
     "output_type": "execute_result"
    }
   ],
   "source": [
    "n_rw_return()"
   ]
  }
 ],
 "metadata": {
  "kernelspec": {
   "display_name": "Python 3",
   "language": "python",
   "name": "python3"
  },
  "language_info": {
   "codemirror_mode": {
    "name": "ipython",
    "version": 3
   },
   "file_extension": ".py",
   "mimetype": "text/x-python",
   "name": "python",
   "nbconvert_exporter": "python",
   "pygments_lexer": "ipython3",
   "version": "3.7.4"
  }
 },
 "nbformat": 4,
 "nbformat_minor": 2
}
