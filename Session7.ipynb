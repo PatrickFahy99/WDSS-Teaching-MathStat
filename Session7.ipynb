{
 "cells": [
  {
   "cell_type": "markdown",
   "metadata": {},
   "source": [
    "# Mathematics and Statistics"
   ]
  },
  {
   "cell_type": "markdown",
   "metadata": {},
   "source": [
    "Implement the Gradient Descent algorithm for finding a local minimum of a function $f(x)$, shown below:\\\n",
    "\n",
    "* Choose an initial point, $x_0$,\n",
    "* Choose a learning rate $\\alpha$ (the meaning of which is shown below),\n",
    "* Calculate the next point $x_n = x_{n-1} - \\alpha * f'(x_{n-1})$, ...\n",
    "* ... until a maximum number of iterations, $N$, is reached, or...\n",
    "* ... a required precision, $|x_n-x_{n-1}|$, $\\varepsilon$ is reached."
   ]
  },
  {
   "cell_type": "code",
   "execution_count": 1,
   "metadata": {},
   "outputs": [],
   "source": [
    "def f(x):\n",
    "    return x*2 + 3*x - 10"
   ]
  },
  {
   "cell_type": "code",
   "execution_count": 2,
   "metadata": {},
   "outputs": [],
   "source": [
    "def df(x):\n",
    "    return 2*x+3"
   ]
  },
  {
   "cell_type": "code",
   "execution_count": 3,
   "metadata": {},
   "outputs": [],
   "source": [
    "def grad_descent(f, x, lr, precision, max_iters):\n",
    "\n",
    "    iters = 0 #iteration counter\n",
    "    previous_step_size = 0.1\n",
    "\n",
    "    while previous_step_size > precision and iters < max_iters:\n",
    "        prev_x = x #Store current x value in prev_x\n",
    "        x = prev_x - lr * df(prev_x) #Grad descent\n",
    "        previous_step_size = abs(x - prev_x) #Change in x\n",
    "        iters+=1 #iteration count\n",
    "\n",
    "    return round(x,4)"
   ]
  },
  {
   "cell_type": "code",
   "execution_count": 4,
   "metadata": {},
   "outputs": [
    {
     "data": {
      "text/plain": [
       "-1.5"
      ]
     },
     "execution_count": 4,
     "metadata": {},
     "output_type": "execute_result"
    }
   ],
   "source": [
    "grad_descent(f,0,0.001,1e-8,10000)"
   ]
  },
  {
   "cell_type": "markdown",
   "metadata": {},
   "source": [
    "Implement the Bisection Method Algorithm for finding a root of a function on $f(x)=x^3-4x+4$ :\n",
    "\\\n",
    "\\\n",
    "The procedure is:\n",
    "\n",
    "* Choose a starting interval $[a_0,b_0]$ such that $f(a_0)f(b_0)<0$\n",
    "* Compute $f(m_0)$ for $m_0 = \\frac{a_0+b_0}{2}$\n",
    "* Determine the next subinterval $[a_1,b_1]$:\n",
    "\n",
    "    * If $f(a_0)f(m_0) < 0$ then set $a_1 = a_0$ and $b_1 = m_0$\n",
    "    * Otherwise $a_1 = m_0$ and $b_1 = b_0$\n",
    "* Repeat the last two steps until our interval $[a_n,b_n]$ has length less than a predetermined tolerance\n",
    "* Return $m_n = \\frac{a_n+b_n}{2}$\n",
    "\\\n",
    "\\\n",
    "Can you do this for general $f$?"
   ]
  },
  {
   "cell_type": "code",
   "execution_count": 5,
   "metadata": {},
   "outputs": [],
   "source": [
    "def f(x):\n",
    "    return x**3 - 4*x + 4"
   ]
  },
  {
   "cell_type": "code",
   "execution_count": 6,
   "metadata": {},
   "outputs": [],
   "source": [
    "def bisection(f,a,b,tol=10e-3):\n",
    "    if f(a)*f(b) > 0:\n",
    "        print('Change Inital Conditions')\n",
    "    m = 0.5*(a+b)\n",
    "    while b-a > tol:\n",
    "        if f(a)*f(m) < 0:\n",
    "            b=m\n",
    "        else:\n",
    "            a=m\n",
    "    return 0.5*(a+b)"
   ]
  },
  {
   "cell_type": "code",
   "execution_count": 7,
   "metadata": {},
   "outputs": [
    {
     "data": {
      "text/plain": [
       "-1.0"
      ]
     },
     "execution_count": 7,
     "metadata": {},
     "output_type": "execute_result"
    }
   ],
   "source": [
    "bisection(f, 1,-3)"
   ]
  }
 ],
 "metadata": {
  "kernelspec": {
   "display_name": "Python 3",
   "language": "python",
   "name": "python3"
  },
  "language_info": {
   "codemirror_mode": {
    "name": "ipython",
    "version": 3
   },
   "file_extension": ".py",
   "mimetype": "text/x-python",
   "name": "python",
   "nbconvert_exporter": "python",
   "pygments_lexer": "ipython3",
   "version": "3.7.4"
  }
 },
 "nbformat": 4,
 "nbformat_minor": 2
}
