{
 "cells": [
  {
   "cell_type": "markdown",
   "metadata": {},
   "source": [
    "# Mathematics and Statistics"
   ]
  },
  {
   "cell_type": "markdown",
   "metadata": {},
   "source": [
    "How many ordered integer solutions $(a,b,c)$ solve the following Diophantine equation:\n",
    "\\\n",
    "\\\n",
    "$a^2 + b^2 + c^2 = 2041$?\\\n",
    "\\\n",
    "Can you generalise this to the equation\\\n",
    "\\\n",
    "$ax^2 + by^2 + cz^2 = d$\\\n",
    "\\\n",
    "by creating a function?"
   ]
  },
  {
   "cell_type": "code",
   "execution_count": 1,
   "metadata": {},
   "outputs": [
    {
     "data": {
      "text/plain": [
       "54"
      ]
     },
     "execution_count": 1,
     "metadata": {},
     "output_type": "execute_result"
    }
   ],
   "source": [
    "import numpy as np\n",
    "solutions = []\n",
    "for a in range(0,int(np.ceil(np.sqrt(2041)))):\n",
    "    for b in range(0,int(np.ceil(np.sqrt(2041)))):\n",
    "        if 2041-a**2-b**2 < 0:\n",
    "            continue\n",
    "        else:\n",
    "            c = np.sqrt(2041-a**2-b**2)\n",
    "            if int(c)==c:\n",
    "                solutions.append((a,b,int(c)))\n",
    "len(solutions)"
   ]
  },
  {
   "cell_type": "code",
   "execution_count": 2,
   "metadata": {},
   "outputs": [],
   "source": [
    "def diophantine_sols(d,a=1,b=1,c=1):\n",
    "    solutions = []\n",
    "    for x in range(0,int(np.ceil(np.sqrt(d)))):\n",
    "        for y in range(0,int(np.ceil(np.sqrt(d)))):\n",
    "            if d-a*x**2-b*y**2 < 0:\n",
    "                continue\n",
    "            else:\n",
    "                z = np.sqrt((d-a*x**2-b*y**2)/c)\n",
    "                if int(z)==z:\n",
    "                    solutions.append((x,y,int(z)))\n",
    "    return len(solutions)"
   ]
  },
  {
   "cell_type": "markdown",
   "metadata": {},
   "source": [
    "Euler's method is used for solving differential equations of the form: \\\n",
    "\\\n",
    "$y^\\prime(x) = f(x,y)$\\\n",
    "$y(x_0)=y_0$\\\n",
    "\\\n",
    "The procedure is as follows:\n",
    "* Start at the initial condition $(x_0, y_0)$\n",
    "* Fix an x-axis step length h\n",
    "* Generate an approximate solution at $x_{n+1} = x_n +h$, using:\\\n",
    "$y_{n+1} = y_n + hf(x_n,y_n)$\\\n",
    "\\\n",
    "Use this method to solve the following ODE:\n",
    "$y^\\prime = x + 2y$, with $y(0)=-0.25$\\\n",
    "\\\n",
    "Note this differential equation can be solved very easily analytically (if you know first year differential equations), and the solution is $y(x) = -\\frac{1}{4}(2x+1)$ (upon Mathematical inspection, it should be obvious why I chose $y(0)=-0.25$).\\\n",
    "Use this to check your solution"
   ]
  },
  {
   "cell_type": "code",
   "execution_count": 3,
   "metadata": {},
   "outputs": [],
   "source": [
    "def f(x,y):\n",
    "    return x+2*y"
   ]
  },
  {
   "cell_type": "code",
   "execution_count": 4,
   "metadata": {},
   "outputs": [],
   "source": [
    "import matplotlib.pyplot as plt\n",
    "def euler(f, x0, y0, h=10e-3, N=1000):\n",
    "    xs = [x0]\n",
    "    ys = [y0]\n",
    "    for n in range(N):\n",
    "        x = xs[-1] + h\n",
    "        y = ys[-1] + h*f(xs[-1], ys[-1])\n",
    "        xs.append(x)\n",
    "        ys.append(y)\n",
    "    return plt.plot(xs,ys)"
   ]
  },
  {
   "cell_type": "code",
   "execution_count": 5,
   "metadata": {},
   "outputs": [
    {
     "data": {
      "text/plain": [
       "[<matplotlib.lines.Line2D at 0x7ff64e1691d0>]"
      ]
     },
     "execution_count": 5,
     "metadata": {},
     "output_type": "execute_result"
    },
    {
     "data": {
      "image/png": "[encoded data removed]",
      "text/plain": [
       "<Figure size 432x288 with 1 Axes>"
      ]
     },
     "metadata": {
      "needs_background": "light"
     },
     "output_type": "display_data"
    }
   ],
   "source": [
    "euler(f,0,-0.25)"
   ]
  }
 ],
 "metadata": {
  "kernelspec": {
   "display_name": "Python 3",
   "language": "python",
   "name": "python3"
  },
  "language_info": {
   "codemirror_mode": {
    "name": "ipython",
    "version": 3
   },
   "file_extension": ".py",
   "mimetype": "text/x-python",
   "name": "python",
   "nbconvert_exporter": "python",
   "pygments_lexer": "ipython3",
   "version": "3.7.4"
  }
 },
 "nbformat": 4,
 "nbformat_minor": 2
}
