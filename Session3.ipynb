{
 "cells": [
  {
   "cell_type": "markdown",
   "metadata": {},
   "source": [
    "# Mathematics and Statistics"
   ]
  },
  {
   "cell_type": "markdown",
   "metadata": {},
   "source": [
    "Find the largest integer n for which the following holds:\\\n",
    "\\\n",
    "$\\left \\lfloor{\\frac{n}{2}}\\right \\rfloor + \\left \\lfloor{\\frac{n}{3}}\\right \\rfloor +\n",
    "\\left \\lfloor{\\frac{n}{11}}\\right \\rfloor + \\left \\lfloor{\\frac{n}{13}}\\right \\rfloor < n$,\\\n",
    "\\\n",
    "where $\\left \\lfloor \\cdot \\right \\rfloor$ is the floor function (takes the value of the largest integer less than or equal to the input).\n",
    "\\\n",
    "\\\n",
    "\\\n",
    "Hint: We can easily find an upper bound for n using a basic property of the floor function:\\\n",
    "$ x-1 < \\left \\lfloor x \\right \\rfloor $\\\n",
    "Therefore, applying to all three floor functions, we have:\n",
    "\\\n",
    "\\\n",
    "$ (\\frac{1}{2}+\\frac{1}{3}+\\frac{1}{11}+\\frac{1}{13})n - 4 = \\frac{859}{858}n-4 <  \\left \\lfloor{\\frac{n}{2}}\\right \\rfloor + \\left \\lfloor{\\frac{n}{3}}\\right \\rfloor +\n",
    "\\left \\lfloor{\\frac{n}{11}}\\right \\rfloor + \\left \\lfloor{\\frac{n}{13}}\\right \\rfloor <n$\n",
    "\\\n",
    "\\\n",
    "In particular $\\frac{859}{858}n-4 < n$\n",
    "\\\n",
    "\\\n",
    "Upon rearranging we get:\n",
    "\\\n",
    "\\\n",
    "$\\frac{1}{858}n < 4 \\iff n < 3432$,\\\n",
    "\\\n",
    "A nice upper bound :)\n",
    "\\\n",
    "\\\n",
    "**Note:** You could solve this just using Maths - congrats if you manage this!"
   ]
  },
  {
   "cell_type": "code",
   "execution_count": 1,
   "metadata": {},
   "outputs": [
    {
     "name": "stdout",
     "output_type": "stream",
     "text": [
      "1715\n"
     ]
    }
   ],
   "source": [
    "# Answer\n",
    "import numpy as np\n",
    "\n",
    "for n in range(3432):\n",
    "    if np.floor(n/2)+np.floor(n/3)+np.floor(n/11)+np.floor(n/13) < n:\n",
    "        maxn = n\n",
    "print(maxn)"
   ]
  },
  {
   "cell_type": "markdown",
   "metadata": {},
   "source": [
    "Implement the Newton method (also known as the Newton-Raphson method) for finding a root of a function on $f(x)=x^3-4x+4$:\n",
    "\n",
    "The procedure is:\n",
    "\n",
    "* Pick an initial point $x_0$\n",
    "* Let $x_1 = x_0 - \\frac{f(x_0)}{f^\\prime(x_0)}$, and so on.... we have\n",
    "* $x_{n+1} = x_n - \\frac{f(x_n)}{f^\\prime(x_n)}$,\n",
    "* Continue until $f(x_n)$ is smaller than a certain threshold"
   ]
  },
  {
   "cell_type": "code",
   "execution_count": 2,
   "metadata": {},
   "outputs": [],
   "source": [
    "def f(x):\n",
    "    return x**3 - 4*x + 4"
   ]
  },
  {
   "cell_type": "code",
   "execution_count": 3,
   "metadata": {},
   "outputs": [],
   "source": [
    "def df(x):\n",
    "    return 3*x**2 -4"
   ]
  },
  {
   "cell_type": "code",
   "execution_count": 5,
   "metadata": {},
   "outputs": [],
   "source": [
    "def newton(f,x,tol=10e-8):\n",
    "    while abs(f(x))>tol:\n",
    "        x = x - f(x)/df(x)\n",
    "    return x"
   ]
  },
  {
   "cell_type": "code",
   "execution_count": 6,
   "metadata": {},
   "outputs": [
    {
     "data": {
      "text/plain": [
       "-2.3829757684753794"
      ]
     },
     "execution_count": 6,
     "metadata": {},
     "output_type": "execute_result"
    }
   ],
   "source": [
    "newton(f,1.2)"
   ]
  }
 ],
 "metadata": {
  "kernelspec": {
   "display_name": "Python 3",
   "language": "python",
   "name": "python3"
  },
  "language_info": {
   "codemirror_mode": {
    "name": "ipython",
    "version": 3
   },
   "file_extension": ".py",
   "mimetype": "text/x-python",
   "name": "python",
   "nbconvert_exporter": "python",
   "pygments_lexer": "ipython3",
   "version": "3.7.4"
  }
 },
 "nbformat": 4,
 "nbformat_minor": 2
}
