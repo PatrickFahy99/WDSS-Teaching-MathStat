{
 "cells": [
  {
   "cell_type": "markdown",
   "metadata": {},
   "source": [
    "# Mathematics and Statistics"
   ]
  },
  {
   "cell_type": "markdown",
   "metadata": {},
   "source": [
    "Given 5 points $(x_0,y_0), (x_1,y_1), (x_2,y_2), (x_3,y_3), (x_4,y_4)$, can you find a polynomial of degree 4 which contains each of these points?\n",
    "\n",
    "Hint:\n",
    "Our polynomial will be of the form\n",
    "$P(x) = a_0 + a_1 x + a_2 x^2 + a_3 x^3 + a_4 x^4 $, \n",
    "\n",
    "and for this to pass through all 5 points we need:\n",
    "$P(x_i) = y_i$ for $i \\in \\{0,1,2,3,4\\}$\n",
    "\n",
    "This is equivalent to:\n",
    "\n",
    "$\n",
    "\\begin{pmatrix} 1 & x_0 & x_0^2 & x_0^3 & x_0^4 \\\\ 1 & x_1 & x_1^2 & x_1^3 & x_1^4 \\\\ 1 & x_2 & x_2^2 & x_2^3 & x_2^4 \\\\ 1 & x_3 & x_3^2 & x_3^3 & x_3^4 \\\\ 1 & x_4 & x_4^2 & x_4^3 & x_4^4 \\\\ \\end{pmatrix} \\begin{pmatrix} a_0 \\\\ a_1 \\\\ a_2 \\\\ a_3 \\\\ a_4 \\\\ \\end{pmatrix} = \\begin{pmatrix} y_0 \\\\ y_1 \\\\ y_2 \\\\ y_3 \\\\ y_4 \\\\  \\end{pmatrix} $\n",
    "\n",
    "We need to find the $a_i$"
   ]
  },
  {
   "cell_type": "code",
   "execution_count": 1,
   "metadata": {},
   "outputs": [],
   "source": [
    "import numpy as np\n",
    "import matplotlib.pyplot as plt\n",
    "\n",
    "def solve_a_i(X0, X1, X2, X3, X4):\n",
    "    A = np.array([[1, X0[0], X0[0]**2, X0[0]**3, X0[0]**4],\n",
    "                  [1, X1[0], X1[0]**2, X1[0]**3, X1[0]**4], \n",
    "                  [1, X2[0], X2[0]**2, X2[0]**3, X2[0]**4], \n",
    "                  [1, X3[0], X3[0]**2, X3[0]**3, X3[0]**4], \n",
    "                  [1, X4[0], X4[0]**2, X4[0]**3, X4[0]**4]])\n",
    "    \n",
    "    B = np.array([X0[1],X1[1],X2[1],X3[1],X4[1]])\n",
    "    \n",
    "    coefficients = np.linalg.solve(A,B)\n",
    "    \n",
    "    return coefficients[::-1] # Reversed order to have the x^4 coefficient first and so on..."
   ]
  },
  {
   "cell_type": "code",
   "execution_count": 2,
   "metadata": {},
   "outputs": [],
   "source": [
    "def interpolate(X0, X1, X2, X3, X4):\n",
    "    \n",
    "    minx = min(X0[0], X1[0], X2[0], X3[0], X4[0])\n",
    "    maxx = max(X0[0], X1[0], X2[0], X3[0], X4[0])\n",
    "    miny = min(X0[1], X1[1], X2[1], X3[1], X4[1])\n",
    "    maxy = max(X0[1], X1[1], X2[1], X3[1], X4[1])\n",
    "    \n",
    "    plt.plot([X0[0], X1[0], X2[0], X3[0], X4[0]],\n",
    "             [X0[1], X1[1], X2[1], X3[1], X4[1]], 'ro')\n",
    "    \n",
    "    x = np.arange(minx, maxx, (maxx-minx)/10000)\n",
    "\n",
    "    coefficients = solve_a_i(X0, X1, X2, X3, X4)\n",
    "    plt.plot(x, np.polyval(coefficients,x))\n",
    "    \n",
    "    plt.axis([minx-0.1*(maxx-minx), maxx+0.1*(maxx-minx), \n",
    "              miny - 0.1*(maxy-miny), maxy + 0.1*(maxy-miny)])\n",
    "    \n",
    "    plt.show()"
   ]
  },
  {
   "cell_type": "code",
   "execution_count": 3,
   "metadata": {},
   "outputs": [
    {
     "data": {
      "image/png": "[encoded data removed]",
      "text/plain": [
       "<Figure size 432x288 with 1 Axes>"
      ]
     },
     "metadata": {
      "needs_background": "light"
     },
     "output_type": "display_data"
    }
   ],
   "source": [
    "interpolate([-2,0], [-1,2], [0,-3], [1,1], [2,6])"
   ]
  },
  {
   "cell_type": "markdown",
   "metadata": {},
   "source": [
    "Linear Regression\n",
    "\n",
    "Given a set of n 2D points $(x_1,y_1), (x_2,y_2), \\dots, (x_n,y_n)$, find the line $\\hat{y}(x) = b_0 + b_1x$ that minimises the squared distance between the predicted and actual values, $\\hat{y}(x_i)$ and $y(x_i)$ repsectively. \n",
    "\n",
    "The squared distance is given by $\\sum_{i=1}^{n} (\\hat{y}(x_i) - y(x_i))^2$\n",
    "\n",
    "Using basic calculus and algebra we get the following equations for b_0 and b_1:\n",
    "\n",
    "\\begin{align*}\n",
    "b_0 = \\frac{(\\sum_{i=1}^{n}y_i)(\\sum_{i=1}^{n}x_i^2) - (\\sum_{i=1}^{n}x_i)(\\sum_{i=1}^{n}x_iy_i)}{n\\sum_{i=1}^{n}x_i^2 - (\\sum_{i=1}^{n}x_i)^2}\n",
    "\\end{align*}\n",
    "\n",
    "\\begin{align*}\n",
    "b_1 = \\frac{n\\sum_{i=1}^{n}x_iy_i - (\\sum_{i=1}^{n}x_i)(\\sum_{i=1}^{n}y_i)}{n\\sum_{i=1}^{n}x_i^2 - (\\sum_{i=1}^{n}x_i)^2}\n",
    "\\end{align*}"
   ]
  },
  {
   "cell_type": "code",
   "execution_count": 4,
   "metadata": {},
   "outputs": [],
   "source": [
    "import numpy as np\n",
    "import matplotlib.pyplot as plt\n",
    "\n",
    "def linear_regression(X,Y):\n",
    "    n = len(X)\n",
    "    \n",
    "    sumx = sum(X)\n",
    "    sumy = sum(Y)\n",
    "    sumx2 = sum([point**2 for point in X])\n",
    "    sumxy = np.dot(X, Y)\n",
    "    \n",
    "    b0 = (sumx2*sumy - sumx*sumxy) / (n*sumx2 - sumx**2)\n",
    "    b1 = (n*sumxy - sumx*sumy) / (n*sumx2 - sumx**2)\n",
    "    \n",
    "    plt.plot([X],[Y], 'ro')\n",
    "    \n",
    "    maxx = max(X)\n",
    "    minx = min(X)\n",
    "    maxy = max(Y)\n",
    "    miny = min(Y)\n",
    "    \n",
    "    x = np.arange(minx, maxx, (maxx-minx)/10000)\n",
    "    plt.plot(x, np.polyval([b1,b0],x))\n",
    "    \n",
    "    plt.axis([minx-0.1*(maxx-minx), maxx+0.1*(maxx-minx), \n",
    "              miny - 0.1*(maxy-miny), maxy + 0.1*(maxy-miny)])"
   ]
  },
  {
   "cell_type": "code",
   "execution_count": 5,
   "metadata": {},
   "outputs": [
    {
     "data": {
      "image/png": "[encoded data removed]",
      "text/plain": [
       "<Figure size 432x288 with 1 Axes>"
      ]
     },
     "metadata": {
      "needs_background": "light"
     },
     "output_type": "display_data"
    }
   ],
   "source": [
    "linear_regression([1,2,3,4,5,6,7,8], [2,3,7,5,5,6,4,5])"
   ]
  }
 ],
 "metadata": {
  "kernelspec": {
   "display_name": "Python 3",
   "language": "python",
   "name": "python3"
  },
  "language_info": {
   "codemirror_mode": {
    "name": "ipython",
    "version": 3
   },
   "file_extension": ".py",
   "mimetype": "text/x-python",
   "name": "python",
   "nbconvert_exporter": "python",
   "pygments_lexer": "ipython3",
   "version": "3.7.4"
  }
 },
 "nbformat": 4,
 "nbformat_minor": 2
}
