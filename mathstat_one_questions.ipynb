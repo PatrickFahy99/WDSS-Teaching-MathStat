{
 "cells": [
  {
   "cell_type": "markdown",
   "metadata": {},
   "source": [
    "# Mathematics and Statistics"
   ]
  },
  {
   "cell_type": "markdown",
   "metadata": {},
   "source": [
    "For a simple starter, see if you can approximate the derivative of the function $f(x) = x^2 + 3x + 6$ at $x=2$.\\\n",
    "\\\n",
    "Remember, by definition, $f'(x) = \\lim_{h \\to 0} \\frac{f(x+h)-f(x)}{h}$"
   ]
  },
  {
   "cell_type": "markdown",
   "metadata": {},
   "source": [
    "The code in the cell below is simply saying we are defining a function $f(x)$, given by $f(x) = x^2 + 3x + 6$"
   ]
  },
  {
   "cell_type": "code",
   "execution_count": null,
   "metadata": {},
   "outputs": [],
   "source": [
    "def f(x):\n",
    "    return x**2 + 3*x +6"
   ]
  },
  {
   "cell_type": "markdown",
   "metadata": {},
   "source": [
    "For example we can compute $f(2)$ by simply writing:"
   ]
  },
  {
   "cell_type": "code",
   "execution_count": null,
   "metadata": {},
   "outputs": [],
   "source": [
    "f(2)"
   ]
  },
  {
   "cell_type": "markdown",
   "metadata": {},
   "source": [
    "Now, see if you can approximate the derivative"
   ]
  },
  {
   "cell_type": "code",
   "execution_count": null,
   "metadata": {},
   "outputs": [],
   "source": []
  },
  {
   "cell_type": "markdown",
   "metadata": {},
   "source": [
    "The following problem is slighly harder, and will introduce further concepts - which will be studied later in the course"
   ]
  },
  {
   "cell_type": "markdown",
   "metadata": {},
   "source": [
    "Approximate the integral of the function $f(x) = x^5 + 4x^3 - x^2 + 5$ between $x=0$ and $x=5$ using the trapezium rule, described below:\n",
    "\n",
    "* Fix a natural number $N$, which will function as the number of (equal) partitions of the $x$-axis,\n",
    "* Evaluate $f$ at the edge of each of these intervals, obtaining $N+1$ values of $f(x)$\n",
    "* Join up these $f(x_i)$ using a straight line (making $N$ trapezia),\n",
    "* Calculate the area below the constructed shape.\\\n",
    "\\\n",
    "Note that for the trapezium bounded by $x$-values $x_i$ and $x_{i+1}$, with $x_{i+1} > x_i$ and, without loss of generality, $f(x_{i+1}) > f(x_i)$, its area is (by splitting up into a square with a triangle above):\\\n",
    "$(x_{i+1}-x_i)f(x_i)$ (the square) + $\\frac{1}{2}(x_{i+1}-x_i)(f(x_{i+1})-f(x_i))$ (the triangle) $= \\frac{1}{2}(x_{i+1}-x_i)(f(x_i) + f(x_{i+1}))$\\\n",
    "\\\n",
    "Note that $(x_{i+1}-x_i) = 5/N$, for all $i$, as $x_N - x_0 = 5$,\\\n",
    "\\\n",
    "So the area simplifies to $\\frac{5}{2N}\\sum_{i=0}^{N}(f(x_i)+f(x_{i+1}))$"
   ]
  },
  {
   "cell_type": "markdown",
   "metadata": {},
   "source": [
    "The following code is simply defining the function, as I did above"
   ]
  },
  {
   "cell_type": "code",
   "execution_count": null,
   "metadata": {},
   "outputs": [],
   "source": [
    "def f(x):\n",
    "    return x**5 + 4*x**3 - x**2 + 5"
   ]
  },
  {
   "cell_type": "markdown",
   "metadata": {},
   "source": [
    "In the cell below, define $N = 10$, $x_0 = 0$ (the left bound for the interval) and $x_N = 5$ (the right bound for the interval) "
   ]
  },
  {
   "cell_type": "code",
   "execution_count": null,
   "metadata": {},
   "outputs": [],
   "source": []
  },
  {
   "cell_type": "markdown",
   "metadata": {},
   "source": [
    "The following code block, calculates the the endpoints of each interval, and evaulates $f$ at each"
   ]
  },
  {
   "cell_type": "code",
   "execution_count": null,
   "metadata": {},
   "outputs": [],
   "source": [
    "import numpy as np\n",
    "\n",
    "x = np.linspace(x0,xN,N+1) # Create the endpoints of the intervals\n",
    "y = f(x) # Evaluate f at each of these points\n",
    "y_right = y[1:] # Right endpoints of the intervals - all but first element\n",
    "y_left = y[:-1] # Left endpoints of the intervals - all but last element"
   ]
  },
  {
   "cell_type": "markdown",
   "metadata": {},
   "source": [
    "Now, see if you can calculate the area under the trapezia using the formula $\\frac{5}{2N}\\sum_{i=0}^{N}(f(x_i)+f(x_{i+1}))$ shown above,\n",
    "the following code shows how to get the sum on the right"
   ]
  },
  {
   "cell_type": "code",
   "execution_count": null,
   "metadata": {},
   "outputs": [],
   "source": [
    "import numpy\n",
    "numpy.sum(y_right + y_left)"
   ]
  },
  {
   "cell_type": "code",
   "execution_count": null,
   "metadata": {},
   "outputs": [],
   "source": []
  },
  {
   "cell_type": "markdown",
   "metadata": {},
   "source": [
    "Note that the actual value of the integral is $3212.5$, see if you can get closer to this by increasing the value of N"
   ]
  },
  {
   "cell_type": "code",
   "execution_count": null,
   "metadata": {},
   "outputs": [],
   "source": []
  }
 ],
 "metadata": {
  "kernelspec": {
   "display_name": "Python 3",
   "language": "python",
   "name": "python3"
  },
  "language_info": {
   "codemirror_mode": {
    "name": "ipython",
    "version": 3
   },
   "file_extension": ".py",
   "mimetype": "text/x-python",
   "name": "python",
   "nbconvert_exporter": "python",
   "pygments_lexer": "ipython3",
   "version": "3.7.4"
  }
 },
 "nbformat": 4,
 "nbformat_minor": 2
}
