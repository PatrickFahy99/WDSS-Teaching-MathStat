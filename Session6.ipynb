{
 "cells": [
  {
   "cell_type": "markdown",
   "metadata": {},
   "source": [
    "# Mathematics and Statistics"
   ]
  },
  {
   "cell_type": "markdown",
   "metadata": {},
   "source": [
    "Implement the Euclidean algorithm\n",
    "\n",
    "The Euclidean Algorithm for finding hcf(a,b) (the highest common factor of a and b) is as follows:\n",
    "* If A = 0 then hcf(a,b)=b.  \n",
    "* If B = 0 then hcf(a,b)=a.  \n",
    "* Write a in the form (a = b⋅q + r), where $0\\leq r<a$\n",
    "* Find hcf(b,r) using the Euclidean Algorithm since hcf(a,b) = hcf(b,r) \\\n",
    "(this is because if a = b⋅q + r, then any divisor of a and b also divides a - b⋅q, which is r)"
   ]
  },
  {
   "cell_type": "code",
   "execution_count": 1,
   "metadata": {},
   "outputs": [],
   "source": [
    "import numpy as np\n",
    "\n",
    "def euclid_algo(a, b):\n",
    "    if a < b: # We want a >= b\n",
    "        return euclid_algo(b, a)\n",
    "    while b != 0:\n",
    "        print('%s = %s * %s + %s' % (a, np.floor(a/b), b, a % b))\n",
    "        (a, b) = (b, a % b)\n",
    "    \n",
    "    return a"
   ]
  },
  {
   "cell_type": "code",
   "execution_count": 2,
   "metadata": {},
   "outputs": [
    {
     "name": "stdout",
     "output_type": "stream",
     "text": [
      "71 = 2.0 * 24 + 23\n",
      "24 = 1.0 * 23 + 1\n",
      "23 = 23.0 * 1 + 0\n"
     ]
    },
    {
     "data": {
      "text/plain": [
       "1"
      ]
     },
     "execution_count": 2,
     "metadata": {},
     "output_type": "execute_result"
    }
   ],
   "source": [
    "euclid_algo(24,71)"
   ]
  },
  {
   "cell_type": "markdown",
   "metadata": {},
   "source": [
    "Extend this to finding lcm(a,b), the lowest common multiple\\\n",
    "\\\n",
    "Note that $hcf(a,b) \\times lcm(a,b) = a \\times b$\\\n",
    "\\\n",
    "Remember lcm(0,a) = a"
   ]
  },
  {
   "cell_type": "code",
   "execution_count": 3,
   "metadata": {},
   "outputs": [],
   "source": [
    "def lcm(a,b):\n",
    "    if a==0 or b==0:\n",
    "        return 0\n",
    "    else:\n",
    "        return int((a*b)/euclid_algo(a,b))"
   ]
  },
  {
   "cell_type": "code",
   "execution_count": 4,
   "metadata": {},
   "outputs": [
    {
     "name": "stdout",
     "output_type": "stream",
     "text": [
      "5 = 1.0 * 4 + 1\n",
      "4 = 4.0 * 1 + 0\n"
     ]
    },
    {
     "data": {
      "text/plain": [
       "20"
      ]
     },
     "execution_count": 4,
     "metadata": {},
     "output_type": "execute_result"
    }
   ],
   "source": [
    "lcm(4,5)"
   ]
  }
 ],
 "metadata": {
  "kernelspec": {
   "display_name": "Python 3",
   "language": "python",
   "name": "python3"
  },
  "language_info": {
   "codemirror_mode": {
    "name": "ipython",
    "version": 3
   },
   "file_extension": ".py",
   "mimetype": "text/x-python",
   "name": "python",
   "nbconvert_exporter": "python",
   "pygments_lexer": "ipython3",
   "version": "3.7.4"
  }
 },
 "nbformat": 4,
 "nbformat_minor": 2
}
